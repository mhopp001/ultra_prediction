{
 "cells": [
  {
   "cell_type": "code",
   "execution_count": 1,
   "id": "d8a0ae4e-d553-45ff-be00-4e22ae2cc5d3",
   "metadata": {},
   "outputs": [],
   "source": [
    "import pandas as pd\n",
    "d = {'miles_per_week': [37,39,46,51,88,17,18,20,21,22,23,24,25,27,28,29,30,31,32,33,34,38,40,42,57,68,35,36,41,43,45,47,49,50,52,53,54,55,56,58,59,60,61,63,64,65,66,69,70,72,73,75,76,77,78,80,81,82,83,84,85,86,87,89,91,92,93,95,96,97,98,99,100,101,102,103,104,105,106,107,109,110,111,113,114,115,116,116,118,119,120,121,123,124,126,62,67,74,79,90,112],\n",
    "      'completed_50m_ultra': ['no','no','no','no','no','no','no','no','no','no','no','no','no','no','no','no','no','no','no','no','no','no','no','no','no','no','yes','yes','yes','yes','no','yes','yes','yes','no','yes','yes','yes','yes','yes','yes','yes','yes','no','yes','yes','yes','yes','yes','yes','yes','no','yes','yes','yes','yes','yes','yes','yes','no','yes','yes','yes','yes','yes','yes','yes','no','yes','yes','yes','yes','yes','yes','yes','yes','yes','yes','yes','yes','yes','yes','yes','yes','yes','yes','yes','yes','yes','yes','yes','yes','yes','yes','yes','yes','yes','yes','yes','yes','yes',]}"
   ]
  },
  {
   "cell_type": "code",
   "execution_count": 3,
   "id": "5b0b6604-4cd7-4bc6-8a15-cbc9e33071e0",
   "metadata": {},
   "outputs": [],
   "source": [
    "df = pd.DataFrame(data=d)"
   ]
  },
  {
   "cell_type": "code",
   "execution_count": 4,
   "id": "d7e5eee3-2129-4554-86bd-b3cc969eaf26",
   "metadata": {},
   "outputs": [
    {
     "data": {
      "text/html": [
       "<div>\n",
       "<style scoped>\n",
       "    .dataframe tbody tr th:only-of-type {\n",
       "        vertical-align: middle;\n",
       "    }\n",
       "\n",
       "    .dataframe tbody tr th {\n",
       "        vertical-align: top;\n",
       "    }\n",
       "\n",
       "    .dataframe thead th {\n",
       "        text-align: right;\n",
       "    }\n",
       "</style>\n",
       "<table border=\"1\" class=\"dataframe\">\n",
       "  <thead>\n",
       "    <tr style=\"text-align: right;\">\n",
       "      <th></th>\n",
       "      <th>miles_per_week</th>\n",
       "      <th>completed_50m_ultra</th>\n",
       "    </tr>\n",
       "  </thead>\n",
       "  <tbody>\n",
       "    <tr>\n",
       "      <th>0</th>\n",
       "      <td>37</td>\n",
       "      <td>no</td>\n",
       "    </tr>\n",
       "    <tr>\n",
       "      <th>1</th>\n",
       "      <td>39</td>\n",
       "      <td>no</td>\n",
       "    </tr>\n",
       "    <tr>\n",
       "      <th>2</th>\n",
       "      <td>46</td>\n",
       "      <td>no</td>\n",
       "    </tr>\n",
       "    <tr>\n",
       "      <th>3</th>\n",
       "      <td>51</td>\n",
       "      <td>no</td>\n",
       "    </tr>\n",
       "    <tr>\n",
       "      <th>4</th>\n",
       "      <td>88</td>\n",
       "      <td>no</td>\n",
       "    </tr>\n",
       "    <tr>\n",
       "      <th>...</th>\n",
       "      <td>...</td>\n",
       "      <td>...</td>\n",
       "    </tr>\n",
       "    <tr>\n",
       "      <th>96</th>\n",
       "      <td>67</td>\n",
       "      <td>yes</td>\n",
       "    </tr>\n",
       "    <tr>\n",
       "      <th>97</th>\n",
       "      <td>74</td>\n",
       "      <td>yes</td>\n",
       "    </tr>\n",
       "    <tr>\n",
       "      <th>98</th>\n",
       "      <td>79</td>\n",
       "      <td>yes</td>\n",
       "    </tr>\n",
       "    <tr>\n",
       "      <th>99</th>\n",
       "      <td>90</td>\n",
       "      <td>yes</td>\n",
       "    </tr>\n",
       "    <tr>\n",
       "      <th>100</th>\n",
       "      <td>112</td>\n",
       "      <td>yes</td>\n",
       "    </tr>\n",
       "  </tbody>\n",
       "</table>\n",
       "<p>101 rows × 2 columns</p>\n",
       "</div>"
      ],
      "text/plain": [
       "     miles_per_week completed_50m_ultra\n",
       "0                37                  no\n",
       "1                39                  no\n",
       "2                46                  no\n",
       "3                51                  no\n",
       "4                88                  no\n",
       "..              ...                 ...\n",
       "96               67                 yes\n",
       "97               74                 yes\n",
       "98               79                 yes\n",
       "99               90                 yes\n",
       "100             112                 yes\n",
       "\n",
       "[101 rows x 2 columns]"
      ]
     },
     "execution_count": 4,
     "metadata": {},
     "output_type": "execute_result"
    }
   ],
   "source": [
    "df"
   ]
  },
  {
   "cell_type": "code",
   "execution_count": 5,
   "id": "7c51c933-461d-43fa-9e04-27139bd186c8",
   "metadata": {},
   "outputs": [],
   "source": [
    "df2 = df[[\"miles_per_week\"]]"
   ]
  },
  {
   "cell_type": "code",
   "execution_count": 8,
   "id": "c60afdd7-4ef5-41dc-950b-514c15b0b770",
   "metadata": {},
   "outputs": [],
   "source": [
    "# Cleanly convert 'Yes'/'No' to 1/0 (robust version)\n",
    "df['completed_50m_ultra'] = (\n",
    "    df['completed_50m_ultra']\n",
    "    .astype(str)\n",
    "    .str.strip()\n",
    "    .str.lower()\n",
    "    .map({\n",
    "        'yes': 1, 'y': 1, 'finished': 1, 'complete': 1,\n",
    "        'no': 0, 'n': 0, 'dnf': 0, 'did not finish': 0\n",
    "    })\n",
    ")"
   ]
  },
  {
   "cell_type": "code",
   "execution_count": 9,
   "id": "098e474d-cfe5-46c2-8649-0c8f3c2ebeec",
   "metadata": {},
   "outputs": [
    {
     "data": {
      "text/html": [
       "<div>\n",
       "<style scoped>\n",
       "    .dataframe tbody tr th:only-of-type {\n",
       "        vertical-align: middle;\n",
       "    }\n",
       "\n",
       "    .dataframe tbody tr th {\n",
       "        vertical-align: top;\n",
       "    }\n",
       "\n",
       "    .dataframe thead th {\n",
       "        text-align: right;\n",
       "    }\n",
       "</style>\n",
       "<table border=\"1\" class=\"dataframe\">\n",
       "  <thead>\n",
       "    <tr style=\"text-align: right;\">\n",
       "      <th></th>\n",
       "      <th>miles_per_week</th>\n",
       "      <th>completed_50m_ultra</th>\n",
       "    </tr>\n",
       "  </thead>\n",
       "  <tbody>\n",
       "    <tr>\n",
       "      <th>0</th>\n",
       "      <td>37</td>\n",
       "      <td>0</td>\n",
       "    </tr>\n",
       "    <tr>\n",
       "      <th>1</th>\n",
       "      <td>39</td>\n",
       "      <td>0</td>\n",
       "    </tr>\n",
       "    <tr>\n",
       "      <th>2</th>\n",
       "      <td>46</td>\n",
       "      <td>0</td>\n",
       "    </tr>\n",
       "    <tr>\n",
       "      <th>3</th>\n",
       "      <td>51</td>\n",
       "      <td>0</td>\n",
       "    </tr>\n",
       "    <tr>\n",
       "      <th>4</th>\n",
       "      <td>88</td>\n",
       "      <td>0</td>\n",
       "    </tr>\n",
       "    <tr>\n",
       "      <th>...</th>\n",
       "      <td>...</td>\n",
       "      <td>...</td>\n",
       "    </tr>\n",
       "    <tr>\n",
       "      <th>96</th>\n",
       "      <td>67</td>\n",
       "      <td>1</td>\n",
       "    </tr>\n",
       "    <tr>\n",
       "      <th>97</th>\n",
       "      <td>74</td>\n",
       "      <td>1</td>\n",
       "    </tr>\n",
       "    <tr>\n",
       "      <th>98</th>\n",
       "      <td>79</td>\n",
       "      <td>1</td>\n",
       "    </tr>\n",
       "    <tr>\n",
       "      <th>99</th>\n",
       "      <td>90</td>\n",
       "      <td>1</td>\n",
       "    </tr>\n",
       "    <tr>\n",
       "      <th>100</th>\n",
       "      <td>112</td>\n",
       "      <td>1</td>\n",
       "    </tr>\n",
       "  </tbody>\n",
       "</table>\n",
       "<p>101 rows × 2 columns</p>\n",
       "</div>"
      ],
      "text/plain": [
       "     miles_per_week  completed_50m_ultra\n",
       "0                37                    0\n",
       "1                39                    0\n",
       "2                46                    0\n",
       "3                51                    0\n",
       "4                88                    0\n",
       "..              ...                  ...\n",
       "96               67                    1\n",
       "97               74                    1\n",
       "98               79                    1\n",
       "99               90                    1\n",
       "100             112                    1\n",
       "\n",
       "[101 rows x 2 columns]"
      ]
     },
     "execution_count": 9,
     "metadata": {},
     "output_type": "execute_result"
    }
   ],
   "source": [
    "df"
   ]
  },
  {
   "cell_type": "code",
   "execution_count": 11,
   "id": "ffa4f657-5cd8-4c36-909d-ef6a23b40479",
   "metadata": {},
   "outputs": [
    {
     "name": "stdout",
     "output_type": "stream",
     "text": [
      "Training MSE: 0.1248\n",
      "Training R²: 0.4232\n"
     ]
    }
   ],
   "source": [
    "from sklearn.linear_model import LinearRegression\n",
    "from sklearn.metrics import mean_squared_error, r2_score\n",
    "\n",
    "X = df[['miles_per_week']]\n",
    "y = df['completed_50m_ultra']\n",
    "\n",
    "model = LinearRegression()\n",
    "model.fit(X, y)\n",
    "\n",
    "# Evaluate on training data\n",
    "df['predicted_completion'] = model.predict(X)\n",
    "\n",
    "mse = mean_squared_error(y, df['predicted_completion'])\n",
    "r2 = r2_score(y, df['predicted_completion'])\n",
    "print(f\"Training MSE: {mse:.4f}\")\n",
    "print(f\"Training R²: {r2:.4f}\")"
   ]
  },
  {
   "cell_type": "code",
   "execution_count": 13,
   "id": "4002d150-4018-4b82-8c05-595967e715aa",
   "metadata": {},
   "outputs": [
    {
     "data": {
      "image/png": "[encoded data removed]",
      "text/plain": [
       "<Figure size 640x480 with 1 Axes>"
      ]
     },
     "metadata": {},
     "output_type": "display_data"
    }
   ],
   "source": [
    "import matplotlib.pyplot as plt\n",
    "\n",
    "plt.scatter(df['miles_per_week'], df['completed_50m_ultra'], label='Actual')\n",
    "plt.plot(df['miles_per_week'], df['predicted_completion'], color='red', label='Fitted line')\n",
    "plt.xlabel('Miles per Week')\n",
    "plt.ylabel('Completed 50M Ultra (1=Yes, 0=No)')\n",
    "plt.legend()\n",
    "plt.show()"
   ]
  },
  {
   "cell_type": "code",
   "execution_count": 14,
   "id": "be32497b-3ea5-4904-8263-517aae17be68",
   "metadata": {},
   "outputs": [
    {
     "name": "stdout",
     "output_type": "stream",
     "text": [
      "   miles_per_week  predicted_completion predicted_class\n",
      "0              37              0.348379              No\n",
      "1              39              0.367869              No\n",
      "2              46              0.436081              No\n",
      "3              51              0.484803              No\n",
      "4              88              0.845353             Yes\n"
     ]
    }
   ],
   "source": [
    "df2['predicted_completion'] = model.predict(df2[['miles_per_week']])\n",
    "df2['predicted_class'] = (df2['predicted_completion'] >= 0.5).astype(int)\n",
    "df2['predicted_class'] = df2['predicted_class'].map({1: 'Yes', 0: 'No'})\n",
    "\n",
    "print(df2.head())"
   ]
  },
  {
   "cell_type": "code",
   "execution_count": 15,
   "id": "aa13820b-b4d2-482f-b672-4c141b65af44",
   "metadata": {},
   "outputs": [
    {
     "name": "stdout",
     "output_type": "stream",
     "text": [
      "[0 1]\n",
      "completed_50m_ultra\n",
      "1    69\n",
      "0    32\n",
      "Name: count, dtype: int64\n"
     ]
    }
   ],
   "source": [
    "# See what unique values exist before mapping\n",
    "print(df['completed_50m_ultra'].unique())\n",
    "\n",
    "# Also show a quick count of each\n",
    "print(df['completed_50m_ultra'].value_counts(dropna=False))"
   ]
  },
  {
   "cell_type": "code",
   "execution_count": 17,
   "id": "a57e01ce-61ab-49f4-a72f-5437b9791e7f",
   "metadata": {},
   "outputs": [
    {
     "name": "stdout",
     "output_type": "stream",
     "text": [
      "Accuracy: 0.861\n",
      "Confusion Matrix:\n",
      " [[25  7]\n",
      " [ 7 62]]\n",
      "\n",
      "Classification Report:\n",
      "               precision    recall  f1-score   support\n",
      "\n",
      "           0       0.78      0.78      0.78        32\n",
      "           1       0.90      0.90      0.90        69\n",
      "\n",
      "    accuracy                           0.86       101\n",
      "   macro avg       0.84      0.84      0.84       101\n",
      "weighted avg       0.86      0.86      0.86       101\n",
      "\n"
     ]
    }
   ],
   "source": [
    "from sklearn.metrics import accuracy_score, confusion_matrix, classification_report\n",
    "\n",
    "# Convert predictions to 0/1 classes\n",
    "df['predicted_class'] = (df['predicted_completion'] >= 0.5).astype(int)\n",
    "\n",
    "# Compare predicted vs actual\n",
    "accuracy = accuracy_score(df['completed_50m_ultra'], df['predicted_class'])\n",
    "cm = confusion_matrix(df['completed_50m_ultra'], df['predicted_class'])\n",
    "report = classification_report(df['completed_50m_ultra'], df['predicted_class'])\n",
    "\n",
    "print(f\"Accuracy: {accuracy:.3f}\")\n",
    "print(\"Confusion Matrix:\\n\", cm)\n",
    "print(\"\\nClassification Report:\\n\", report)"
   ]
  },
  {
   "cell_type": "code",
   "execution_count": 18,
   "id": "db0e5b58-5b75-49bc-b0f0-c501bbec7af1",
   "metadata": {},
   "outputs": [
    {
     "data": {
      "image/png": "[encoded data removed]",
      "text/plain": [
       "<Figure size 640x480 with 1 Axes>"
      ]
     },
     "metadata": {},
     "output_type": "display_data"
    }
   ],
   "source": [
    "import matplotlib.pyplot as plt\n",
    "\n",
    "plt.scatter(df['miles_per_week'], df['completed_50m_ultra'], color='blue', label='Actual')\n",
    "plt.scatter(df['miles_per_week'], df['predicted_class'], color='red', alpha=0.5, label='Predicted')\n",
    "plt.xlabel('Miles per Week')\n",
    "plt.ylabel('Completed (1=Yes, 0=No)')\n",
    "plt.legend()\n",
    "plt.show()"
   ]
  },
  {
   "cell_type": "code",
   "execution_count": 19,
   "id": "3bdabeca-a431-45f1-89b5-4ad113e15895",
   "metadata": {},
   "outputs": [],
   "source": [
    "#Bonus Time"
   ]
  },
  {
   "cell_type": "code",
   "execution_count": 20,
   "id": "0d2d7836-c072-4a7f-b8db-4eef2523008f",
   "metadata": {},
   "outputs": [
    {
     "name": "stdout",
     "output_type": "stream",
     "text": [
      "Accuracy: 0.842\n",
      "Confusion Matrix:\n",
      " [[23  9]\n",
      " [ 7 62]]\n",
      "\n",
      "Classification Report:\n",
      "               precision    recall  f1-score   support\n",
      "\n",
      "           0       0.77      0.72      0.74        32\n",
      "           1       0.87      0.90      0.89        69\n",
      "\n",
      "    accuracy                           0.84       101\n",
      "   macro avg       0.82      0.81      0.81       101\n",
      "weighted avg       0.84      0.84      0.84       101\n",
      "\n"
     ]
    }
   ],
   "source": [
    "from sklearn.linear_model import LogisticRegression\n",
    "import matplotlib.pyplot as plt\n",
    "import numpy as np\n",
    "\n",
    "# Features and target\n",
    "X = df[['miles_per_week']]\n",
    "y = df['completed_50m_ultra']\n",
    "\n",
    "# Train logistic regression\n",
    "log_model = LogisticRegression()\n",
    "log_model.fit(X, y)\n",
    "\n",
    "# Predict probabilities for df\n",
    "df['pred_prob'] = log_model.predict_proba(X)[:, 1]  # probability of completion\n",
    "df['pred_class'] = log_model.predict(X)             # 0 or 1 prediction\n",
    "\n",
    "# Evaluate accuracy\n",
    "from sklearn.metrics import accuracy_score, confusion_matrix, classification_report\n",
    "\n",
    "accuracy = accuracy_score(y, df['pred_class'])\n",
    "cm = confusion_matrix(y, df['pred_class'])\n",
    "report = classification_report(y, df['pred_class'])\n",
    "\n",
    "print(f\"Accuracy: {accuracy:.3f}\")\n",
    "print(\"Confusion Matrix:\\n\", cm)\n",
    "print(\"\\nClassification Report:\\n\", report)"
   ]
  },
  {
   "cell_type": "code",
   "execution_count": 25,
   "id": "170906cf-2f11-4a81-9dea-74b6a4189b29",
   "metadata": {},
   "outputs": [
    {
     "data": {
      "image/png": "[encoded data removed]",
      "text/plain": [
       "<Figure size 640x480 with 1 Axes>"
      ]
     },
     "metadata": {},
     "output_type": "display_data"
    }
   ],
   "source": [
    "# Sort data for plotting\n",
    "import warnings\n",
    "import numpy as np\n",
    "import matplotlib.pyplot as plt\n",
    "\n",
    "with warnings.catch_warnings():\n",
    "    warnings.simplefilter(\"ignore\")  # ignore warnings inside this block\n",
    "\n",
    "    # Sort data for plotting\n",
    "    X_plot = np.linspace(df['miles_per_week'].min(), df['miles_per_week'].max(), 300).reshape(-1, 1)\n",
    "    y_prob = log_model.predict_proba(X_plot)[:, 1]\n",
    "\n",
    "    plt.scatter(df['miles_per_week'], df['completed_50m_ultra'], color='blue', label='Actual')\n",
    "    plt.plot(X_plot, y_prob, color='red', label='Predicted probability')\n",
    "    plt.axhline(0.5, color='green', linestyle='--', label='0.5 probability cutoff')\n",
    "    plt.xlabel('Miles per Week')\n",
    "    plt.ylabel('Probability of Completion')\n",
    "    plt.legend()\n",
    "    plt.show()"
   ]
  },
  {
   "cell_type": "code",
   "execution_count": 26,
   "id": "ef8ffb09-5df5-4559-a9ac-945d450f232c",
   "metadata": {},
   "outputs": [
    {
     "name": "stdout",
     "output_type": "stream",
     "text": [
      "    miles_per_week  predicted_completion predicted_class  pred_prob pred_class\n",
      "0               37              0.348379              No   0.266975         No\n",
      "1               39              0.367869              No   0.296819         No\n",
      "2               46              0.436081              No   0.414322         No\n",
      "3               51              0.484803              No   0.505677        Yes\n",
      "4               88              0.845353             Yes   0.940030        Yes\n",
      "5               17              0.153488              No   0.076891         No\n",
      "6               18              0.163232              No   0.082293         No\n",
      "7               20              0.182722              No   0.094144         No\n",
      "8               21              0.192466              No   0.100626         No\n",
      "9               22              0.202211              No   0.107501         No\n",
      "10              23              0.211955              No   0.114786         No\n",
      "11              24              0.221700              No   0.122498         No\n",
      "12              25              0.231445              No   0.130650         No\n",
      "13              27              0.250934              No   0.148339         No\n",
      "14              28              0.260678              No   0.157902         No\n",
      "15              29              0.270423              No   0.167960         No\n",
      "16              30              0.280167              No   0.178523         No\n",
      "17              31              0.289912              No   0.189598         No\n",
      "18              32              0.299657              No   0.201193         No\n",
      "19              33              0.309401              No   0.213310         No\n",
      "20              34              0.319146              No   0.225950         No\n",
      "21              38              0.358124              No   0.281657         No\n",
      "22              40              0.377613              No   0.312443         No\n",
      "23              42              0.397102              No   0.344977         No\n",
      "24              57              0.543271             Yes   0.614272        Yes\n",
      "25              68              0.650461             Yes   0.781894        Yes\n",
      "26              35              0.328890              No   0.239112         No\n",
      "27              36              0.338635              No   0.252789         No\n",
      "28              41              0.387358              No   0.328504         No\n",
      "29              43              0.406847              No   0.361831         No\n",
      "30              45              0.426336              No   0.396543         No\n",
      "31              47              0.445825              No   0.432328         No\n",
      "32              49              0.465314              No   0.468834         No\n",
      "33              50              0.475059              No   0.487238         No\n",
      "34              52              0.494548              No   0.524100        Yes\n",
      "35              53              0.504293             Yes   0.542458        Yes\n",
      "36              54              0.514037             Yes   0.560701        Yes\n",
      "37              55              0.523782             Yes   0.578782        Yes\n",
      "38              56              0.533526             Yes   0.596653        Yes\n",
      "39              58              0.553016             Yes   0.631597        Yes\n",
      "40              59              0.562760             Yes   0.648588        Yes\n",
      "41              60              0.572505             Yes   0.665212        Yes\n",
      "42              61              0.582249             Yes   0.681435        Yes\n",
      "43              63              0.601738             Yes   0.712572        Yes\n",
      "44              64              0.611483             Yes   0.727440        Yes\n",
      "45              65              0.621228             Yes   0.741818        Yes\n",
      "46              66              0.630972             Yes   0.755692        Yes\n",
      "47              69              0.660206             Yes   0.794212        Yes\n",
      "48              70              0.669950             Yes   0.806007        Yes\n",
      "49              72              0.689440             Yes   0.828041        Yes\n"
     ]
    }
   ],
   "source": [
    "df2['pred_prob'] = log_model.predict_proba(df2[['miles_per_week']])[:, 1]\n",
    "df2['pred_class'] = (df2['pred_prob'] >= 0.5).astype(int)\n",
    "df2['pred_class'] = df2['pred_class'].map({1: 'Yes', 0: 'No'})\n",
    "\n",
    "print(df2.head(50))"
   ]
  },
  {
   "cell_type": "code",
   "execution_count": null,
   "id": "2d469126-4b66-4ea3-945a-d8d2f9de480a",
   "metadata": {},
   "outputs": [],
   "source": []
  }
 ],
 "metadata": {
  "kernelspec": {
   "display_name": "Python [conda env:base] *",
   "language": "python",
   "name": "conda-base-py"
  },
  "language_info": {
   "codemirror_mode": {
    "name": "ipython",
    "version": 3
   },
   "file_extension": ".py",
   "mimetype": "text/x-python",
   "name": "python",
   "nbconvert_exporter": "python",
   "pygments_lexer": "ipython3",
   "version": "3.13.5"
  }
 },
 "nbformat": 4,
 "nbformat_minor": 5
}
